{
  "nbformat": 4,
  "nbformat_minor": 0,
  "metadata": {
    "colab": {
      "provenance": []
    },
    "kernelspec": {
      "name": "python3",
      "display_name": "Python 3"
    },
    "language_info": {
      "name": "python"
    }
  },
  "cells": [
    {
      "cell_type": "code",
      "execution_count": 55,
      "metadata": {
        "colab": {
          "base_uri": "https://localhost:8080/"
        },
        "id": "uAC3Fzv8RS9I",
        "outputId": "3b86dd88-399b-4587-f116-dbb0c4992eb8"
      },
      "outputs": [
        {
          "output_type": "stream",
          "name": "stdout",
          "text": [
            "polars ya esta instalado\n",
            "numpy ya esta instalado\n",
            "seaborn ya esta instalado\n",
            "matplotlib ya esta instalado\n",
            "Instalando sklearn...\n"
          ]
        }
      ],
      "source": [
        "import importlib\n",
        "import sys\n",
        "import subprocess\n",
        "\n",
        "def instalar(paquete, nombre=None):\n",
        "  if nombre is None:\n",
        "    nombre = paquete\n",
        "  try:\n",
        "    importlib.import_module(paquete)\n",
        "    print(f\"{nombre} ya esta instalado\")\n",
        "  except ImportError:\n",
        "    print(f\"Instalando {nombre}...\")\n",
        "    subprocess.check_call([sys.executable, \"-m\", \"pip\", \"install\", paquete])\n",
        "\n",
        "instalar(\"polars\")\n",
        "instalar(\"numpy\")\n",
        "instalar(\"seaborn\")\n",
        "instalar(\"matplotlib\")\n",
        "instalar(\"scikit-learn\",\"sklearn\")"
      ]
    },
    {
      "cell_type": "code",
      "source": [
        "import polars as pl\n",
        "import numpy as np\n",
        "import seaborn as sb\n",
        "import matplotlib.pyplot as plt\n",
        "import os"
      ],
      "metadata": {
        "id": "124l2EhURc-9"
      },
      "execution_count": 56,
      "outputs": []
    },
    {
      "cell_type": "markdown",
      "source": [
        "Importando el dataset"
      ],
      "metadata": {
        "id": "S78uN6MtRkdg"
      }
    },
    {
      "cell_type": "markdown",
      "source": [
        "Para importar sin problemas de archivos utilizaremos el codigo otorgado por la pagina\n"
      ],
      "metadata": {
        "id": "pPQXAuehRmpa"
      }
    },
    {
      "cell_type": "code",
      "source": [
        "try:\n",
        "  df = pl.read_csv(\"diabetes.csv\")\n",
        "except:\n",
        "  !pip install kagglehub\n",
        "  import kagglehub\n",
        "  from kagglehub import KaggleDatasetAdapter\n",
        "\n",
        "  # Set the path to the file you'd like to load\n",
        "\n",
        "\n",
        "  # Load the latest version\n",
        "  path = kagglehub.dataset_download(\n",
        "      \"mathchi/diabetes-data-set\"\n",
        "  )\n",
        "\n",
        "  file_path = os.path.join(path, \"diabetes.csv\")\n",
        "\n",
        "  df = pl.read_csv(file_path)\n"
      ],
      "metadata": {
        "colab": {
          "base_uri": "https://localhost:8080/"
        },
        "id": "eleVVbFuR5eI",
        "outputId": "3fbc44d7-0f91-40ff-c815-535914f3d8ec"
      },
      "execution_count": 69,
      "outputs": [
        {
          "output_type": "stream",
          "name": "stdout",
          "text": [
            "Requirement already satisfied: kagglehub in /usr/local/lib/python3.11/dist-packages (0.3.12)\n",
            "Requirement already satisfied: packaging in /usr/local/lib/python3.11/dist-packages (from kagglehub) (24.2)\n",
            "Requirement already satisfied: pyyaml in /usr/local/lib/python3.11/dist-packages (from kagglehub) (6.0.2)\n",
            "Requirement already satisfied: requests in /usr/local/lib/python3.11/dist-packages (from kagglehub) (2.32.3)\n",
            "Requirement already satisfied: tqdm in /usr/local/lib/python3.11/dist-packages (from kagglehub) (4.67.1)\n",
            "Requirement already satisfied: charset-normalizer<4,>=2 in /usr/local/lib/python3.11/dist-packages (from requests->kagglehub) (3.4.2)\n",
            "Requirement already satisfied: idna<4,>=2.5 in /usr/local/lib/python3.11/dist-packages (from requests->kagglehub) (3.10)\n",
            "Requirement already satisfied: urllib3<3,>=1.21.1 in /usr/local/lib/python3.11/dist-packages (from requests->kagglehub) (2.4.0)\n",
            "Requirement already satisfied: certifi>=2017.4.17 in /usr/local/lib/python3.11/dist-packages (from requests->kagglehub) (2025.6.15)\n"
          ]
        }
      ]
    },
    {
      "cell_type": "markdown",
      "source": [
        "# Viendo un poco de la *informacion*"
      ],
      "metadata": {
        "id": "a45DLtoiSdIt"
      }
    },
    {
      "cell_type": "code",
      "source": [
        "df.head()"
      ],
      "metadata": {
        "colab": {
          "base_uri": "https://localhost:8080/",
          "height": 255
        },
        "id": "VKgkJAACSZCL",
        "outputId": "f5b3f0b5-a3af-4a27-e895-45dc267312b0"
      },
      "execution_count": 58,
      "outputs": [
        {
          "output_type": "execute_result",
          "data": {
            "text/plain": [
              "shape: (5, 9)\n",
              "┌─────────────┬─────────┬───────────────┬───────────────┬───┬──────┬───────────────┬─────┬─────────┐\n",
              "│ Pregnancies ┆ Glucose ┆ BloodPressure ┆ SkinThickness ┆ … ┆ BMI  ┆ DiabetesPedig ┆ Age ┆ Outcome │\n",
              "│ ---         ┆ ---     ┆ ---           ┆ ---           ┆   ┆ ---  ┆ reeFunction   ┆ --- ┆ ---     │\n",
              "│ i64         ┆ i64     ┆ i64           ┆ i64           ┆   ┆ f64  ┆ ---           ┆ i64 ┆ i64     │\n",
              "│             ┆         ┆               ┆               ┆   ┆      ┆ f64           ┆     ┆         │\n",
              "╞═════════════╪═════════╪═══════════════╪═══════════════╪═══╪══════╪═══════════════╪═════╪═════════╡\n",
              "│ 6           ┆ 148     ┆ 72            ┆ 35            ┆ … ┆ 33.6 ┆ 0.627         ┆ 50  ┆ 1       │\n",
              "│ 1           ┆ 85      ┆ 66            ┆ 29            ┆ … ┆ 26.6 ┆ 0.351         ┆ 31  ┆ 0       │\n",
              "│ 8           ┆ 183     ┆ 64            ┆ 0             ┆ … ┆ 23.3 ┆ 0.672         ┆ 32  ┆ 1       │\n",
              "│ 1           ┆ 89      ┆ 66            ┆ 23            ┆ … ┆ 28.1 ┆ 0.167         ┆ 21  ┆ 0       │\n",
              "│ 0           ┆ 137     ┆ 40            ┆ 35            ┆ … ┆ 43.1 ┆ 2.288         ┆ 33  ┆ 1       │\n",
              "└─────────────┴─────────┴───────────────┴───────────────┴───┴──────┴───────────────┴─────┴─────────┘"
            ],
            "text/html": [
              "<div><style>\n",
              ".dataframe > thead > tr,\n",
              ".dataframe > tbody > tr {\n",
              "  text-align: right;\n",
              "  white-space: pre-wrap;\n",
              "}\n",
              "</style>\n",
              "<small>shape: (5, 9)</small><table border=\"1\" class=\"dataframe\"><thead><tr><th>Pregnancies</th><th>Glucose</th><th>BloodPressure</th><th>SkinThickness</th><th>Insulin</th><th>BMI</th><th>DiabetesPedigreeFunction</th><th>Age</th><th>Outcome</th></tr><tr><td>i64</td><td>i64</td><td>i64</td><td>i64</td><td>i64</td><td>f64</td><td>f64</td><td>i64</td><td>i64</td></tr></thead><tbody><tr><td>6</td><td>148</td><td>72</td><td>35</td><td>0</td><td>33.6</td><td>0.627</td><td>50</td><td>1</td></tr><tr><td>1</td><td>85</td><td>66</td><td>29</td><td>0</td><td>26.6</td><td>0.351</td><td>31</td><td>0</td></tr><tr><td>8</td><td>183</td><td>64</td><td>0</td><td>0</td><td>23.3</td><td>0.672</td><td>32</td><td>1</td></tr><tr><td>1</td><td>89</td><td>66</td><td>23</td><td>94</td><td>28.1</td><td>0.167</td><td>21</td><td>0</td></tr><tr><td>0</td><td>137</td><td>40</td><td>35</td><td>168</td><td>43.1</td><td>2.288</td><td>33</td><td>1</td></tr></tbody></table></div>"
            ]
          },
          "metadata": {},
          "execution_count": 58
        }
      ]
    },
    {
      "cell_type": "code",
      "source": [
        "df.tail()"
      ],
      "metadata": {
        "colab": {
          "base_uri": "https://localhost:8080/",
          "height": 255
        },
        "id": "JjMgvJdPmT5Y",
        "outputId": "5f8671df-f917-4413-db8a-55f8a1cac546"
      },
      "execution_count": 59,
      "outputs": [
        {
          "output_type": "execute_result",
          "data": {
            "text/plain": [
              "shape: (5, 9)\n",
              "┌─────────────┬─────────┬───────────────┬───────────────┬───┬──────┬───────────────┬─────┬─────────┐\n",
              "│ Pregnancies ┆ Glucose ┆ BloodPressure ┆ SkinThickness ┆ … ┆ BMI  ┆ DiabetesPedig ┆ Age ┆ Outcome │\n",
              "│ ---         ┆ ---     ┆ ---           ┆ ---           ┆   ┆ ---  ┆ reeFunction   ┆ --- ┆ ---     │\n",
              "│ i64         ┆ i64     ┆ i64           ┆ i64           ┆   ┆ f64  ┆ ---           ┆ i64 ┆ i64     │\n",
              "│             ┆         ┆               ┆               ┆   ┆      ┆ f64           ┆     ┆         │\n",
              "╞═════════════╪═════════╪═══════════════╪═══════════════╪═══╪══════╪═══════════════╪═════╪═════════╡\n",
              "│ 10          ┆ 101     ┆ 76            ┆ 48            ┆ … ┆ 32.9 ┆ 0.171         ┆ 63  ┆ 0       │\n",
              "│ 2           ┆ 122     ┆ 70            ┆ 27            ┆ … ┆ 36.8 ┆ 0.34          ┆ 27  ┆ 0       │\n",
              "│ 5           ┆ 121     ┆ 72            ┆ 23            ┆ … ┆ 26.2 ┆ 0.245         ┆ 30  ┆ 0       │\n",
              "│ 1           ┆ 126     ┆ 60            ┆ 0             ┆ … ┆ 30.1 ┆ 0.349         ┆ 47  ┆ 1       │\n",
              "│ 1           ┆ 93      ┆ 70            ┆ 31            ┆ … ┆ 30.4 ┆ 0.315         ┆ 23  ┆ 0       │\n",
              "└─────────────┴─────────┴───────────────┴───────────────┴───┴──────┴───────────────┴─────┴─────────┘"
            ],
            "text/html": [
              "<div><style>\n",
              ".dataframe > thead > tr,\n",
              ".dataframe > tbody > tr {\n",
              "  text-align: right;\n",
              "  white-space: pre-wrap;\n",
              "}\n",
              "</style>\n",
              "<small>shape: (5, 9)</small><table border=\"1\" class=\"dataframe\"><thead><tr><th>Pregnancies</th><th>Glucose</th><th>BloodPressure</th><th>SkinThickness</th><th>Insulin</th><th>BMI</th><th>DiabetesPedigreeFunction</th><th>Age</th><th>Outcome</th></tr><tr><td>i64</td><td>i64</td><td>i64</td><td>i64</td><td>i64</td><td>f64</td><td>f64</td><td>i64</td><td>i64</td></tr></thead><tbody><tr><td>10</td><td>101</td><td>76</td><td>48</td><td>180</td><td>32.9</td><td>0.171</td><td>63</td><td>0</td></tr><tr><td>2</td><td>122</td><td>70</td><td>27</td><td>0</td><td>36.8</td><td>0.34</td><td>27</td><td>0</td></tr><tr><td>5</td><td>121</td><td>72</td><td>23</td><td>112</td><td>26.2</td><td>0.245</td><td>30</td><td>0</td></tr><tr><td>1</td><td>126</td><td>60</td><td>0</td><td>0</td><td>30.1</td><td>0.349</td><td>47</td><td>1</td></tr><tr><td>1</td><td>93</td><td>70</td><td>31</td><td>0</td><td>30.4</td><td>0.315</td><td>23</td><td>0</td></tr></tbody></table></div>"
            ]
          },
          "metadata": {},
          "execution_count": 59
        }
      ]
    },
    {
      "cell_type": "code",
      "source": [
        "df.schema"
      ],
      "metadata": {
        "colab": {
          "base_uri": "https://localhost:8080/"
        },
        "id": "u0AsIu9fmT3G",
        "outputId": "ebe28ba8-5fdd-466f-947f-1a3a816f3e36"
      },
      "execution_count": 60,
      "outputs": [
        {
          "output_type": "execute_result",
          "data": {
            "text/plain": [
              "Schema([('Pregnancies', Int64),\n",
              "        ('Glucose', Int64),\n",
              "        ('BloodPressure', Int64),\n",
              "        ('SkinThickness', Int64),\n",
              "        ('Insulin', Int64),\n",
              "        ('BMI', Float64),\n",
              "        ('DiabetesPedigreeFunction', Float64),\n",
              "        ('Age', Int64),\n",
              "        ('Outcome', Int64)])"
            ]
          },
          "metadata": {},
          "execution_count": 60
        }
      ]
    },
    {
      "cell_type": "markdown",
      "source": [
        "Buscando valores nullos o 'incorrectos'"
      ],
      "metadata": {
        "id": "ncmlbqPiSqWi"
      }
    },
    {
      "cell_type": "code",
      "source": [
        "conteo_nullos = df.null_count()\n",
        "print(conteo_nullos)"
      ],
      "metadata": {
        "colab": {
          "base_uri": "https://localhost:8080/"
        },
        "id": "9xmIkJj4St9W",
        "outputId": "d9f7be84-9ea1-4fb5-f7ed-0162c11d9488"
      },
      "execution_count": 61,
      "outputs": [
        {
          "output_type": "stream",
          "name": "stdout",
          "text": [
            "shape: (1, 9)\n",
            "┌─────────────┬─────────┬───────────────┬───────────────┬───┬─────┬────────────────┬─────┬─────────┐\n",
            "│ Pregnancies ┆ Glucose ┆ BloodPressure ┆ SkinThickness ┆ … ┆ BMI ┆ DiabetesPedigr ┆ Age ┆ Outcome │\n",
            "│ ---         ┆ ---     ┆ ---           ┆ ---           ┆   ┆ --- ┆ eeFunction     ┆ --- ┆ ---     │\n",
            "│ u32         ┆ u32     ┆ u32           ┆ u32           ┆   ┆ u32 ┆ ---            ┆ u32 ┆ u32     │\n",
            "│             ┆         ┆               ┆               ┆   ┆     ┆ u32            ┆     ┆         │\n",
            "╞═════════════╪═════════╪═══════════════╪═══════════════╪═══╪═════╪════════════════╪═════╪═════════╡\n",
            "│ 0           ┆ 0       ┆ 0             ┆ 0             ┆ … ┆ 0   ┆ 0              ┆ 0   ┆ 0       │\n",
            "└─────────────┴─────────┴───────────────┴───────────────┴───┴─────┴────────────────┴─────┴─────────┘\n"
          ]
        }
      ]
    },
    {
      "cell_type": "code",
      "source": [
        "df.select([pl.col(c).is_nan().sum().alias(c) for c in df.columns])\n"
      ],
      "metadata": {
        "colab": {
          "base_uri": "https://localhost:8080/",
          "height": 129
        },
        "id": "9UrLqkd1DjJv",
        "outputId": "246f6c41-c4d8-4557-cf09-9d5074962863"
      },
      "execution_count": 62,
      "outputs": [
        {
          "output_type": "execute_result",
          "data": {
            "text/plain": [
              "shape: (1, 9)\n",
              "┌─────────────┬─────────┬───────────────┬───────────────┬───┬─────┬────────────────┬─────┬─────────┐\n",
              "│ Pregnancies ┆ Glucose ┆ BloodPressure ┆ SkinThickness ┆ … ┆ BMI ┆ DiabetesPedigr ┆ Age ┆ Outcome │\n",
              "│ ---         ┆ ---     ┆ ---           ┆ ---           ┆   ┆ --- ┆ eeFunction     ┆ --- ┆ ---     │\n",
              "│ u32         ┆ u32     ┆ u32           ┆ u32           ┆   ┆ u32 ┆ ---            ┆ u32 ┆ u32     │\n",
              "│             ┆         ┆               ┆               ┆   ┆     ┆ u32            ┆     ┆         │\n",
              "╞═════════════╪═════════╪═══════════════╪═══════════════╪═══╪═════╪════════════════╪═════╪═════════╡\n",
              "│ 0           ┆ 0       ┆ 0             ┆ 0             ┆ … ┆ 0   ┆ 0              ┆ 0   ┆ 0       │\n",
              "└─────────────┴─────────┴───────────────┴───────────────┴───┴─────┴────────────────┴─────┴─────────┘"
            ],
            "text/html": [
              "<div><style>\n",
              ".dataframe > thead > tr,\n",
              ".dataframe > tbody > tr {\n",
              "  text-align: right;\n",
              "  white-space: pre-wrap;\n",
              "}\n",
              "</style>\n",
              "<small>shape: (1, 9)</small><table border=\"1\" class=\"dataframe\"><thead><tr><th>Pregnancies</th><th>Glucose</th><th>BloodPressure</th><th>SkinThickness</th><th>Insulin</th><th>BMI</th><th>DiabetesPedigreeFunction</th><th>Age</th><th>Outcome</th></tr><tr><td>u32</td><td>u32</td><td>u32</td><td>u32</td><td>u32</td><td>u32</td><td>u32</td><td>u32</td><td>u32</td></tr></thead><tbody><tr><td>0</td><td>0</td><td>0</td><td>0</td><td>0</td><td>0</td><td>0</td><td>0</td><td>0</td></tr></tbody></table></div>"
            ]
          },
          "metadata": {},
          "execution_count": 62
        }
      ]
    },
    {
      "cell_type": "markdown",
      "source": [
        "Verificando si hay valores distintos a [0 1] en los resultados (Outcome)"
      ],
      "metadata": {
        "id": "iPDnCx0ERZzq"
      }
    },
    {
      "cell_type": "code",
      "source": [
        "\n",
        "conteo_clases = df['Outcome'].value_counts()\n",
        "print(conteo_clases)\n",
        "\n",
        "# Graficando\n",
        "x = conteo_clases['Outcome'].to_list()\n",
        "y = conteo_clases['count'].to_list()\n",
        "plt.bar(x, y)\n",
        "plt.title('Distribución de Outcome')\n",
        "plt.xlabel('Outcome')\n",
        "plt.ylabel('Frecuencia')\n",
        "plt.grid(axis='y', linestyle ='--', alpha = 0.7)\n",
        "plt.show()"
      ],
      "metadata": {
        "colab": {
          "base_uri": "https://localhost:8080/",
          "height": 633
        },
        "id": "8Wz0t9GQRg21",
        "outputId": "1bc57868-836d-44e2-dfe6-9de252947bce"
      },
      "execution_count": 63,
      "outputs": [
        {
          "output_type": "stream",
          "name": "stdout",
          "text": [
            "shape: (2, 2)\n",
            "┌─────────┬───────┐\n",
            "│ Outcome ┆ count │\n",
            "│ ---     ┆ ---   │\n",
            "│ i64     ┆ u32   │\n",
            "╞═════════╪═══════╡\n",
            "│ 1       ┆ 268   │\n",
            "│ 0       ┆ 500   │\n",
            "└─────────┴───────┘\n"
          ]
        },
        {
          "output_type": "display_data",
          "data": {
            "text/plain": [
              "<Figure size 640x480 with 1 Axes>"
            ],
            "image/png": "[encoded data removed]"
          },
          "metadata": {}
        }
      ]
    },
    {
      "cell_type": "code",
      "source": [
        "# Total de registros\n",
        "total = conteo_clases['count'].sum()\n",
        "\n",
        "c_0 = conteo_clases.filter(pl.col('Outcome')==0)['count'][0]\n",
        "c_1 = conteo_clases.filter(pl.col('Outcome')==1)['count'][0]\n",
        "\n",
        "\n",
        "print(f\"Conteo de 0: { c_0 * 100 / total }%\")\n",
        "print(f\"Conteo de 1: { c_1 * 100 / total }%\")\n"
      ],
      "metadata": {
        "colab": {
          "base_uri": "https://localhost:8080/"
        },
        "id": "uCQXuO5qT8fO",
        "outputId": "3b1c2027-0619-48ee-fa25-3f2adf645da0"
      },
      "execution_count": 64,
      "outputs": [
        {
          "output_type": "stream",
          "name": "stdout",
          "text": [
            "Conteo de 0: 65.10416666666667%\n",
            "Conteo de 1: 34.895833333333336%\n"
          ]
        }
      ]
    },
    {
      "cell_type": "markdown",
      "source": [
        "Hay un poco de desbalance (desbalance moderado). Pero se puede trabajar con esa relacion"
      ],
      "metadata": {
        "id": "lCHHKBLtnSS8"
      }
    },
    {
      "cell_type": "markdown",
      "source": [
        "# Aplicando Modelo"
      ],
      "metadata": {
        "id": "aOVcyDQQmnSl"
      }
    },
    {
      "cell_type": "markdown",
      "source": [
        "Para este caso se aplicara KNN con k = 15"
      ],
      "metadata": {
        "id": "p1LuGQJ3OWZi"
      }
    },
    {
      "cell_type": "code",
      "source": [
        "from sklearn.model_selection import train_test_split\n",
        "from sklearn.preprocessing import StandardScaler\n",
        "from sklearn.ensemble import RandomForestClassifier\n",
        "from sklearn.metrics import (\n",
        "    accuracy_score,\n",
        "    precision_score,\n",
        "    recall_score,\n",
        "    f1_score,\n",
        "    confusion_matrix,\n",
        "    classification_report\n",
        ")\n",
        "\n",
        "#Separando\n",
        "X = df.select(pl.exclude('Outcome'))\n",
        "y = df['Outcome']\n",
        "\n",
        "#Escalando\n",
        "scaler = StandardScaler()\n",
        "X_scaled = scaler.fit_transform(X)\n",
        "\n",
        "#Entrenando\n",
        "X_train, X_test, y_train, y_test = train_test_split(X_scaled, y, test_size=0.3, random_state=42)\n",
        "\n",
        "#Aplicando Random Forest\n",
        "fr = RandomForestClassifier(class_weight='balanced', n_estimators=25, max_depth=5, max_features= 'sqrt', min_samples_split=2, min_samples_leaf=1,  random_state=42)\n",
        "fr.fit(X_train, y_train)\n",
        "\n",
        "#Predecir\n",
        "y_pred = fr.predict(X_test)\n"
      ],
      "metadata": {
        "id": "3vgVTOqAmtFH"
      },
      "execution_count": 65,
      "outputs": []
    },
    {
      "cell_type": "markdown",
      "source": [
        "# Resultados y Metricas"
      ],
      "metadata": {
        "id": "wT0HHGcfmuJI"
      }
    },
    {
      "cell_type": "code",
      "source": [
        "accuracy = accuracy_score(y_test, y_pred)\n",
        "precision = precision_score(y_test, y_pred)\n",
        "recall = recall_score(y_test, y_pred)\n",
        "f1 = f1_score(y_test, y_pred)\n",
        "\n",
        "print(f\"Accuracy: {accuracy}\")\n",
        "print(f\"Precision: {precision}\")\n",
        "print(f\"Recall: {recall}\")\n",
        "print(f\"F1 Score: {f1}\")"
      ],
      "metadata": {
        "id": "u9Yu53foRJft",
        "colab": {
          "base_uri": "https://localhost:8080/"
        },
        "outputId": "6b4f1268-1952-4017-ab72-1b733f1ff4a4"
      },
      "execution_count": 66,
      "outputs": [
        {
          "output_type": "stream",
          "name": "stdout",
          "text": [
            "Accuracy: 0.7272727272727273\n",
            "Precision: 0.5825242718446602\n",
            "Recall: 0.75\n",
            "F1 Score: 0.6557377049180327\n"
          ]
        }
      ]
    },
    {
      "cell_type": "code",
      "source": [
        "cm = confusion_matrix(y_test, y_pred)\n",
        "print(\"Matriz de Confusión:\")\n",
        "print(cm)\n",
        "plt.figure(figsize=(8, 6))\n",
        "sb.heatmap(cm, annot=True, fmt='d', cmap='Blues', xticklabels=['No Diabetes', 'Diabetes'], yticklabels=['No Diabetes', 'Diabetes'])\n",
        "plt.xlabel('Predicted')\n",
        "plt.tight_layout()\n",
        "plt.ylabel('Actual')\n",
        "plt.title('Confusion Matrix')\n",
        "plt.show()"
      ],
      "metadata": {
        "id": "je52TZiZRJdw",
        "colab": {
          "base_uri": "https://localhost:8080/",
          "height": 683
        },
        "outputId": "a6deb6cb-79f0-4cdb-8ee2-6b9871e78bed"
      },
      "execution_count": 67,
      "outputs": [
        {
          "output_type": "stream",
          "name": "stdout",
          "text": [
            "Matriz de Confusión:\n",
            "[[108  43]\n",
            " [ 20  60]]\n"
          ]
        },
        {
          "output_type": "display_data",
          "data": {
            "text/plain": [
              "<Figure size 800x600 with 2 Axes>"
            ],
            "image/png": "[encoded data removed]"
          },
          "metadata": {}
        }
      ]
    },
    {
      "cell_type": "code",
      "source": [
        "metricas = {\n",
        "    'Accuracy': accuracy,\n",
        "    'Precision': precision,\n",
        "    'Recall': recall,\n",
        "    'F1 Score': f1\n",
        "}\n",
        "colores = ['#1f77b4', '#ff7f0e', '#2ca02c', '#d62728']\n",
        "\n",
        "plt.figure(figsize=(8, 6))\n",
        "plt.ylim(0, 1)\n",
        "plt.bar(metricas.keys(), metricas.values(), color=colores)\n",
        "plt.title('Métricas de Clasificación')\n",
        "plt.xlabel('Métricas')\n",
        "plt.ylabel('Valores')\n",
        "plt.grid(axis='y', linestyle ='--', alpha = 0.7)\n",
        "plt.show()"
      ],
      "metadata": {
        "colab": {
          "base_uri": "https://localhost:8080/",
          "height": 564
        },
        "id": "icakezO3UwRU",
        "outputId": "7741e93b-570c-41b0-8240-2270b1036458"
      },
      "execution_count": 68,
      "outputs": [
        {
          "output_type": "display_data",
          "data": {
            "text/plain": [
              "<Figure size 800x600 with 1 Axes>"
            ],
            "image/png": "[encoded data removed]"
          },
          "metadata": {}
        }
      ]
    }
  ]
}